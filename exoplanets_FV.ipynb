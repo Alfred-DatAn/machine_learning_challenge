{
 "cells": [
  {
   "cell_type": "markdown",
   "metadata": {},
   "source": [
    "<h1 style=\"color:blue;\">Exoplanet Exploration - ML challenge</h1>"
   ]
  },
  {
   "cell_type": "markdown",
   "metadata": {},
   "source": [
    "<h3 style=\"color:green;\">Data loading and variable exploration</h3>"
   ]
  },
  {
   "cell_type": "code",
   "execution_count": 2,
   "metadata": {},
   "outputs": [],
   "source": [
    "import pandas as pd"
   ]
  },
  {
   "cell_type": "code",
   "execution_count": 3,
   "metadata": {},
   "outputs": [],
   "source": [
    "dataset = pd.read_csv(\"data/cumulative.csv\")"
   ]
  },
  {
   "cell_type": "code",
   "execution_count": 4,
   "metadata": {},
   "outputs": [
    {
     "data": {
      "text/html": [
       "<div>\n",
       "<style scoped>\n",
       "    .dataframe tbody tr th:only-of-type {\n",
       "        vertical-align: middle;\n",
       "    }\n",
       "\n",
       "    .dataframe tbody tr th {\n",
       "        vertical-align: top;\n",
       "    }\n",
       "\n",
       "    .dataframe thead th {\n",
       "        text-align: right;\n",
       "    }\n",
       "</style>\n",
       "<table border=\"1\" class=\"dataframe\">\n",
       "  <thead>\n",
       "    <tr style=\"text-align: right;\">\n",
       "      <th></th>\n",
       "      <th>rowid</th>\n",
       "      <th>kepid</th>\n",
       "      <th>kepoi_name</th>\n",
       "      <th>kepler_name</th>\n",
       "      <th>koi_disposition</th>\n",
       "      <th>koi_pdisposition</th>\n",
       "      <th>koi_score</th>\n",
       "      <th>koi_fpflag_nt</th>\n",
       "      <th>koi_fpflag_ss</th>\n",
       "      <th>koi_fpflag_co</th>\n",
       "      <th>...</th>\n",
       "      <th>koi_steff_err2</th>\n",
       "      <th>koi_slogg</th>\n",
       "      <th>koi_slogg_err1</th>\n",
       "      <th>koi_slogg_err2</th>\n",
       "      <th>koi_srad</th>\n",
       "      <th>koi_srad_err1</th>\n",
       "      <th>koi_srad_err2</th>\n",
       "      <th>ra</th>\n",
       "      <th>dec</th>\n",
       "      <th>koi_kepmag</th>\n",
       "    </tr>\n",
       "  </thead>\n",
       "  <tbody>\n",
       "    <tr>\n",
       "      <td>0</td>\n",
       "      <td>1</td>\n",
       "      <td>10797460</td>\n",
       "      <td>K00752.01</td>\n",
       "      <td>Kepler-227 b</td>\n",
       "      <td>CONFIRMED</td>\n",
       "      <td>CANDIDATE</td>\n",
       "      <td>1.000</td>\n",
       "      <td>0</td>\n",
       "      <td>0</td>\n",
       "      <td>0</td>\n",
       "      <td>...</td>\n",
       "      <td>-81.0</td>\n",
       "      <td>4.467</td>\n",
       "      <td>0.064</td>\n",
       "      <td>-0.096</td>\n",
       "      <td>0.927</td>\n",
       "      <td>0.105</td>\n",
       "      <td>-0.061</td>\n",
       "      <td>291.93423</td>\n",
       "      <td>48.141651</td>\n",
       "      <td>15.347</td>\n",
       "    </tr>\n",
       "    <tr>\n",
       "      <td>1</td>\n",
       "      <td>2</td>\n",
       "      <td>10797460</td>\n",
       "      <td>K00752.02</td>\n",
       "      <td>Kepler-227 c</td>\n",
       "      <td>CONFIRMED</td>\n",
       "      <td>CANDIDATE</td>\n",
       "      <td>0.969</td>\n",
       "      <td>0</td>\n",
       "      <td>0</td>\n",
       "      <td>0</td>\n",
       "      <td>...</td>\n",
       "      <td>-81.0</td>\n",
       "      <td>4.467</td>\n",
       "      <td>0.064</td>\n",
       "      <td>-0.096</td>\n",
       "      <td>0.927</td>\n",
       "      <td>0.105</td>\n",
       "      <td>-0.061</td>\n",
       "      <td>291.93423</td>\n",
       "      <td>48.141651</td>\n",
       "      <td>15.347</td>\n",
       "    </tr>\n",
       "    <tr>\n",
       "      <td>2</td>\n",
       "      <td>3</td>\n",
       "      <td>10811496</td>\n",
       "      <td>K00753.01</td>\n",
       "      <td>NaN</td>\n",
       "      <td>FALSE POSITIVE</td>\n",
       "      <td>FALSE POSITIVE</td>\n",
       "      <td>0.000</td>\n",
       "      <td>0</td>\n",
       "      <td>1</td>\n",
       "      <td>0</td>\n",
       "      <td>...</td>\n",
       "      <td>-176.0</td>\n",
       "      <td>4.544</td>\n",
       "      <td>0.044</td>\n",
       "      <td>-0.176</td>\n",
       "      <td>0.868</td>\n",
       "      <td>0.233</td>\n",
       "      <td>-0.078</td>\n",
       "      <td>297.00482</td>\n",
       "      <td>48.134129</td>\n",
       "      <td>15.436</td>\n",
       "    </tr>\n",
       "    <tr>\n",
       "      <td>3</td>\n",
       "      <td>4</td>\n",
       "      <td>10848459</td>\n",
       "      <td>K00754.01</td>\n",
       "      <td>NaN</td>\n",
       "      <td>FALSE POSITIVE</td>\n",
       "      <td>FALSE POSITIVE</td>\n",
       "      <td>0.000</td>\n",
       "      <td>0</td>\n",
       "      <td>1</td>\n",
       "      <td>0</td>\n",
       "      <td>...</td>\n",
       "      <td>-174.0</td>\n",
       "      <td>4.564</td>\n",
       "      <td>0.053</td>\n",
       "      <td>-0.168</td>\n",
       "      <td>0.791</td>\n",
       "      <td>0.201</td>\n",
       "      <td>-0.067</td>\n",
       "      <td>285.53461</td>\n",
       "      <td>48.285210</td>\n",
       "      <td>15.597</td>\n",
       "    </tr>\n",
       "    <tr>\n",
       "      <td>4</td>\n",
       "      <td>5</td>\n",
       "      <td>10854555</td>\n",
       "      <td>K00755.01</td>\n",
       "      <td>Kepler-664 b</td>\n",
       "      <td>CONFIRMED</td>\n",
       "      <td>CANDIDATE</td>\n",
       "      <td>1.000</td>\n",
       "      <td>0</td>\n",
       "      <td>0</td>\n",
       "      <td>0</td>\n",
       "      <td>...</td>\n",
       "      <td>-211.0</td>\n",
       "      <td>4.438</td>\n",
       "      <td>0.070</td>\n",
       "      <td>-0.210</td>\n",
       "      <td>1.046</td>\n",
       "      <td>0.334</td>\n",
       "      <td>-0.133</td>\n",
       "      <td>288.75488</td>\n",
       "      <td>48.226200</td>\n",
       "      <td>15.509</td>\n",
       "    </tr>\n",
       "    <tr>\n",
       "      <td>...</td>\n",
       "      <td>...</td>\n",
       "      <td>...</td>\n",
       "      <td>...</td>\n",
       "      <td>...</td>\n",
       "      <td>...</td>\n",
       "      <td>...</td>\n",
       "      <td>...</td>\n",
       "      <td>...</td>\n",
       "      <td>...</td>\n",
       "      <td>...</td>\n",
       "      <td>...</td>\n",
       "      <td>...</td>\n",
       "      <td>...</td>\n",
       "      <td>...</td>\n",
       "      <td>...</td>\n",
       "      <td>...</td>\n",
       "      <td>...</td>\n",
       "      <td>...</td>\n",
       "      <td>...</td>\n",
       "      <td>...</td>\n",
       "      <td>...</td>\n",
       "    </tr>\n",
       "    <tr>\n",
       "      <td>9559</td>\n",
       "      <td>9560</td>\n",
       "      <td>10031643</td>\n",
       "      <td>K07984.01</td>\n",
       "      <td>NaN</td>\n",
       "      <td>FALSE POSITIVE</td>\n",
       "      <td>FALSE POSITIVE</td>\n",
       "      <td>0.000</td>\n",
       "      <td>0</td>\n",
       "      <td>0</td>\n",
       "      <td>0</td>\n",
       "      <td>...</td>\n",
       "      <td>-152.0</td>\n",
       "      <td>4.296</td>\n",
       "      <td>0.231</td>\n",
       "      <td>-0.189</td>\n",
       "      <td>1.088</td>\n",
       "      <td>0.313</td>\n",
       "      <td>-0.228</td>\n",
       "      <td>298.74921</td>\n",
       "      <td>46.973351</td>\n",
       "      <td>14.478</td>\n",
       "    </tr>\n",
       "    <tr>\n",
       "      <td>9560</td>\n",
       "      <td>9561</td>\n",
       "      <td>10090151</td>\n",
       "      <td>K07985.01</td>\n",
       "      <td>NaN</td>\n",
       "      <td>FALSE POSITIVE</td>\n",
       "      <td>FALSE POSITIVE</td>\n",
       "      <td>0.000</td>\n",
       "      <td>0</td>\n",
       "      <td>1</td>\n",
       "      <td>1</td>\n",
       "      <td>...</td>\n",
       "      <td>-166.0</td>\n",
       "      <td>4.529</td>\n",
       "      <td>0.035</td>\n",
       "      <td>-0.196</td>\n",
       "      <td>0.903</td>\n",
       "      <td>0.237</td>\n",
       "      <td>-0.079</td>\n",
       "      <td>297.18875</td>\n",
       "      <td>47.093819</td>\n",
       "      <td>14.082</td>\n",
       "    </tr>\n",
       "    <tr>\n",
       "      <td>9561</td>\n",
       "      <td>9562</td>\n",
       "      <td>10128825</td>\n",
       "      <td>K07986.01</td>\n",
       "      <td>NaN</td>\n",
       "      <td>CANDIDATE</td>\n",
       "      <td>CANDIDATE</td>\n",
       "      <td>0.497</td>\n",
       "      <td>0</td>\n",
       "      <td>0</td>\n",
       "      <td>0</td>\n",
       "      <td>...</td>\n",
       "      <td>-220.0</td>\n",
       "      <td>4.444</td>\n",
       "      <td>0.056</td>\n",
       "      <td>-0.224</td>\n",
       "      <td>1.031</td>\n",
       "      <td>0.341</td>\n",
       "      <td>-0.114</td>\n",
       "      <td>286.50937</td>\n",
       "      <td>47.163219</td>\n",
       "      <td>14.757</td>\n",
       "    </tr>\n",
       "    <tr>\n",
       "      <td>9562</td>\n",
       "      <td>9563</td>\n",
       "      <td>10147276</td>\n",
       "      <td>K07987.01</td>\n",
       "      <td>NaN</td>\n",
       "      <td>FALSE POSITIVE</td>\n",
       "      <td>FALSE POSITIVE</td>\n",
       "      <td>0.021</td>\n",
       "      <td>0</td>\n",
       "      <td>0</td>\n",
       "      <td>1</td>\n",
       "      <td>...</td>\n",
       "      <td>-236.0</td>\n",
       "      <td>4.447</td>\n",
       "      <td>0.056</td>\n",
       "      <td>-0.224</td>\n",
       "      <td>1.041</td>\n",
       "      <td>0.341</td>\n",
       "      <td>-0.114</td>\n",
       "      <td>294.16489</td>\n",
       "      <td>47.176281</td>\n",
       "      <td>15.385</td>\n",
       "    </tr>\n",
       "    <tr>\n",
       "      <td>9563</td>\n",
       "      <td>9564</td>\n",
       "      <td>10156110</td>\n",
       "      <td>K07989.01</td>\n",
       "      <td>NaN</td>\n",
       "      <td>FALSE POSITIVE</td>\n",
       "      <td>FALSE POSITIVE</td>\n",
       "      <td>0.000</td>\n",
       "      <td>0</td>\n",
       "      <td>0</td>\n",
       "      <td>1</td>\n",
       "      <td>...</td>\n",
       "      <td>-225.0</td>\n",
       "      <td>4.385</td>\n",
       "      <td>0.054</td>\n",
       "      <td>-0.216</td>\n",
       "      <td>1.193</td>\n",
       "      <td>0.410</td>\n",
       "      <td>-0.137</td>\n",
       "      <td>297.00977</td>\n",
       "      <td>47.121021</td>\n",
       "      <td>14.826</td>\n",
       "    </tr>\n",
       "  </tbody>\n",
       "</table>\n",
       "<p>9564 rows × 50 columns</p>\n",
       "</div>"
      ],
      "text/plain": [
       "      rowid     kepid kepoi_name   kepler_name koi_disposition  \\\n",
       "0         1  10797460  K00752.01  Kepler-227 b       CONFIRMED   \n",
       "1         2  10797460  K00752.02  Kepler-227 c       CONFIRMED   \n",
       "2         3  10811496  K00753.01           NaN  FALSE POSITIVE   \n",
       "3         4  10848459  K00754.01           NaN  FALSE POSITIVE   \n",
       "4         5  10854555  K00755.01  Kepler-664 b       CONFIRMED   \n",
       "...     ...       ...        ...           ...             ...   \n",
       "9559   9560  10031643  K07984.01           NaN  FALSE POSITIVE   \n",
       "9560   9561  10090151  K07985.01           NaN  FALSE POSITIVE   \n",
       "9561   9562  10128825  K07986.01           NaN       CANDIDATE   \n",
       "9562   9563  10147276  K07987.01           NaN  FALSE POSITIVE   \n",
       "9563   9564  10156110  K07989.01           NaN  FALSE POSITIVE   \n",
       "\n",
       "     koi_pdisposition  koi_score  koi_fpflag_nt  koi_fpflag_ss  koi_fpflag_co  \\\n",
       "0           CANDIDATE      1.000              0              0              0   \n",
       "1           CANDIDATE      0.969              0              0              0   \n",
       "2      FALSE POSITIVE      0.000              0              1              0   \n",
       "3      FALSE POSITIVE      0.000              0              1              0   \n",
       "4           CANDIDATE      1.000              0              0              0   \n",
       "...               ...        ...            ...            ...            ...   \n",
       "9559   FALSE POSITIVE      0.000              0              0              0   \n",
       "9560   FALSE POSITIVE      0.000              0              1              1   \n",
       "9561        CANDIDATE      0.497              0              0              0   \n",
       "9562   FALSE POSITIVE      0.021              0              0              1   \n",
       "9563   FALSE POSITIVE      0.000              0              0              1   \n",
       "\n",
       "      ...  koi_steff_err2  koi_slogg  koi_slogg_err1  koi_slogg_err2  \\\n",
       "0     ...           -81.0      4.467           0.064          -0.096   \n",
       "1     ...           -81.0      4.467           0.064          -0.096   \n",
       "2     ...          -176.0      4.544           0.044          -0.176   \n",
       "3     ...          -174.0      4.564           0.053          -0.168   \n",
       "4     ...          -211.0      4.438           0.070          -0.210   \n",
       "...   ...             ...        ...             ...             ...   \n",
       "9559  ...          -152.0      4.296           0.231          -0.189   \n",
       "9560  ...          -166.0      4.529           0.035          -0.196   \n",
       "9561  ...          -220.0      4.444           0.056          -0.224   \n",
       "9562  ...          -236.0      4.447           0.056          -0.224   \n",
       "9563  ...          -225.0      4.385           0.054          -0.216   \n",
       "\n",
       "      koi_srad  koi_srad_err1  koi_srad_err2         ra        dec  koi_kepmag  \n",
       "0        0.927          0.105         -0.061  291.93423  48.141651      15.347  \n",
       "1        0.927          0.105         -0.061  291.93423  48.141651      15.347  \n",
       "2        0.868          0.233         -0.078  297.00482  48.134129      15.436  \n",
       "3        0.791          0.201         -0.067  285.53461  48.285210      15.597  \n",
       "4        1.046          0.334         -0.133  288.75488  48.226200      15.509  \n",
       "...        ...            ...            ...        ...        ...         ...  \n",
       "9559     1.088          0.313         -0.228  298.74921  46.973351      14.478  \n",
       "9560     0.903          0.237         -0.079  297.18875  47.093819      14.082  \n",
       "9561     1.031          0.341         -0.114  286.50937  47.163219      14.757  \n",
       "9562     1.041          0.341         -0.114  294.16489  47.176281      15.385  \n",
       "9563     1.193          0.410         -0.137  297.00977  47.121021      14.826  \n",
       "\n",
       "[9564 rows x 50 columns]"
      ]
     },
     "execution_count": 4,
     "metadata": {},
     "output_type": "execute_result"
    }
   ],
   "source": [
    "dataset"
   ]
  },
  {
   "cell_type": "code",
   "execution_count": 5,
   "metadata": {},
   "outputs": [
    {
     "data": {
      "text/plain": [
       "Index(['rowid', 'kepid', 'kepoi_name', 'kepler_name', 'koi_disposition',\n",
       "       'koi_pdisposition', 'koi_score', 'koi_fpflag_nt', 'koi_fpflag_ss',\n",
       "       'koi_fpflag_co', 'koi_fpflag_ec', 'koi_period', 'koi_period_err1',\n",
       "       'koi_period_err2', 'koi_time0bk', 'koi_time0bk_err1',\n",
       "       'koi_time0bk_err2', 'koi_impact', 'koi_impact_err1', 'koi_impact_err2',\n",
       "       'koi_duration', 'koi_duration_err1', 'koi_duration_err2', 'koi_depth',\n",
       "       'koi_depth_err1', 'koi_depth_err2', 'koi_prad', 'koi_prad_err1',\n",
       "       'koi_prad_err2', 'koi_teq', 'koi_teq_err1', 'koi_teq_err2', 'koi_insol',\n",
       "       'koi_insol_err1', 'koi_insol_err2', 'koi_model_snr', 'koi_tce_plnt_num',\n",
       "       'koi_tce_delivname', 'koi_steff', 'koi_steff_err1', 'koi_steff_err2',\n",
       "       'koi_slogg', 'koi_slogg_err1', 'koi_slogg_err2', 'koi_srad',\n",
       "       'koi_srad_err1', 'koi_srad_err2', 'ra', 'dec', 'koi_kepmag'],\n",
       "      dtype='object')"
      ]
     },
     "execution_count": 5,
     "metadata": {},
     "output_type": "execute_result"
    }
   ],
   "source": [
    "dataset.columns"
   ]
  },
  {
   "cell_type": "markdown",
   "metadata": {},
   "source": [
    "* __rowid(DELETE):__ original id table\n",
    "* __kepid(DELETE):__ Target identification number, as listed in the Kepler Input Catalog (KIC).\n",
    "* __kepoi_name(DELETE):__ A number used to identify and track a Kepler Object of Interest (KOI). A KOI is a target identified by the Kepler Project\n",
    "* __koi_disposition (y):__ The category of this KOI from the Exoplanet Archive. Current values are CANDIDATE, FALSE POSITIVE, NOT DISPOSITIONED or CONFIRMED.\n",
    "* __koi_pdisposition(???):__ The pipeline flag that designates the most probable physical explanation of the KOI. Typical values are FALSE POSITIVE, NOT DISPOSITIONED, and CANDIDATE.\n",
    "* __koi_score:__ A value between 0 and 1 that indicates the confidence in the KOI disposition. For CANDIDATEs, a higher value indicates more confidence in its disposition, while for FALSE POSITIVEs, a higher value indicates less confidence in that disposition.\n",
    "* __koi_fpflag_nt:__ A KOI whose light curve is not consistent with that of a transiting planet.\n",
    "* __koi_fpflag_ss:__ A KOI that is observed to have a significant secondary event, transit shape, or out-of-eclipse variability, which indicates that the transit-like event is most likely caused by an eclipsing binary.\n",
    "* __koi_fpflag_co:__ The source of the signal is from a nearby star, as inferred by measuring the centroid location of the image both in and out of transit\n",
    "* __koi_fpflag_ec:__ The KOI shares the same period and epoch as another object and is judged to be the result of flux contamination in the aperture or electronic crosstalk.\n",
    "\n",
    "...\n",
    "\n",
    "\n",
    "* __koi_period:__ koi_period_err1 and koi_period_err2\n",
    "* __koi_impact:__ koi_impact_err1 and koi_impact_err2\n",
    "* __koi_duration:__ koi_duration_err1 and koi_duration_err2\n",
    "* __koi_depth:__ koi_depth_err1 and koi_depth_err2\n",
    "* __koi_prad:__ koi_prad_err1 and koi_prad_err2\n",
    "* __koi_teq:__ koi_teq_err1 and koi_teq_err2\n",
    "* __koi_insol:__ koi_insol_err1 and koi_insol_err2\n",
    "* __koi_model_snr:__ \n",
    "* __koi_tce_plnt_num:__ \n",
    "* __koi_tce_delivname (DUMMIE???):__ \n",
    "* __koi_steff:__ koi_steff_err1 and koi_steff_err2\n",
    "* __koi_slogg:__ koi_slogg_err1 and koi_slogg_err2\n",
    "* __koi_srad:__ koi_srad_err1 and koi_srad_err2\n",
    "* __ra:__ KIC Right Ascension\n",
    "* __dec:__ KIC Declination\n",
    "* __koi_kepmag:__ Kepler-band (mag)"
   ]
  },
  {
   "cell_type": "code",
   "execution_count": 6,
   "metadata": {
    "scrolled": true
   },
   "outputs": [
    {
     "name": "stdout",
     "output_type": "stream",
     "text": [
      "<class 'pandas.core.frame.DataFrame'>\n",
      "RangeIndex: 9564 entries, 0 to 9563\n",
      "Data columns (total 50 columns):\n",
      "rowid                9564 non-null int64\n",
      "kepid                9564 non-null int64\n",
      "kepoi_name           9564 non-null object\n",
      "kepler_name          2294 non-null object\n",
      "koi_disposition      9564 non-null object\n",
      "koi_pdisposition     9564 non-null object\n",
      "koi_score            8054 non-null float64\n",
      "koi_fpflag_nt        9564 non-null int64\n",
      "koi_fpflag_ss        9564 non-null int64\n",
      "koi_fpflag_co        9564 non-null int64\n",
      "koi_fpflag_ec        9564 non-null int64\n",
      "koi_period           9564 non-null float64\n",
      "koi_period_err1      9110 non-null float64\n",
      "koi_period_err2      9110 non-null float64\n",
      "koi_time0bk          9564 non-null float64\n",
      "koi_time0bk_err1     9110 non-null float64\n",
      "koi_time0bk_err2     9110 non-null float64\n",
      "koi_impact           9201 non-null float64\n",
      "koi_impact_err1      9110 non-null float64\n",
      "koi_impact_err2      9110 non-null float64\n",
      "koi_duration         9564 non-null float64\n",
      "koi_duration_err1    9110 non-null float64\n",
      "koi_duration_err2    9110 non-null float64\n",
      "koi_depth            9201 non-null float64\n",
      "koi_depth_err1       9110 non-null float64\n",
      "koi_depth_err2       9110 non-null float64\n",
      "koi_prad             9201 non-null float64\n",
      "koi_prad_err1        9201 non-null float64\n",
      "koi_prad_err2        9201 non-null float64\n",
      "koi_teq              9201 non-null float64\n",
      "koi_teq_err1         0 non-null float64\n",
      "koi_teq_err2         0 non-null float64\n",
      "koi_insol            9243 non-null float64\n",
      "koi_insol_err1       9243 non-null float64\n",
      "koi_insol_err2       9243 non-null float64\n",
      "koi_model_snr        9201 non-null float64\n",
      "koi_tce_plnt_num     9218 non-null float64\n",
      "koi_tce_delivname    9218 non-null object\n",
      "koi_steff            9201 non-null float64\n",
      "koi_steff_err1       9096 non-null float64\n",
      "koi_steff_err2       9081 non-null float64\n",
      "koi_slogg            9201 non-null float64\n",
      "koi_slogg_err1       9096 non-null float64\n",
      "koi_slogg_err2       9096 non-null float64\n",
      "koi_srad             9201 non-null float64\n",
      "koi_srad_err1        9096 non-null float64\n",
      "koi_srad_err2        9096 non-null float64\n",
      "ra                   9564 non-null float64\n",
      "dec                  9564 non-null float64\n",
      "koi_kepmag           9563 non-null float64\n",
      "dtypes: float64(39), int64(6), object(5)\n",
      "memory usage: 3.6+ MB\n"
     ]
    }
   ],
   "source": [
    "dataset.info()"
   ]
  },
  {
   "cell_type": "markdown",
   "metadata": {},
   "source": [
    "<h3 style=\"color:green;\">Data cleaning</h3>"
   ]
  },
  {
   "cell_type": "code",
   "execution_count": 7,
   "metadata": {},
   "outputs": [],
   "source": [
    "#remove koi_teq_err1 and koi_teq_err2; plus index and name columns\n",
    "\n",
    "dataset = dataset.drop(columns = [\"rowid\", \"kepid\", \"kepoi_name\", \"kepler_name\",\n",
    "                                  \"koi_pdisposition\", \"koi_score\", \"koi_tce_delivname\", \"koi_teq_err1\", \"koi_teq_err2\"], axis=1)"
   ]
  },
  {
   "cell_type": "code",
   "execution_count": 8,
   "metadata": {},
   "outputs": [
    {
     "name": "stdout",
     "output_type": "stream",
     "text": [
      "<class 'pandas.core.frame.DataFrame'>\n",
      "RangeIndex: 9564 entries, 0 to 9563\n",
      "Data columns (total 41 columns):\n",
      "koi_disposition      9564 non-null object\n",
      "koi_fpflag_nt        9564 non-null int64\n",
      "koi_fpflag_ss        9564 non-null int64\n",
      "koi_fpflag_co        9564 non-null int64\n",
      "koi_fpflag_ec        9564 non-null int64\n",
      "koi_period           9564 non-null float64\n",
      "koi_period_err1      9110 non-null float64\n",
      "koi_period_err2      9110 non-null float64\n",
      "koi_time0bk          9564 non-null float64\n",
      "koi_time0bk_err1     9110 non-null float64\n",
      "koi_time0bk_err2     9110 non-null float64\n",
      "koi_impact           9201 non-null float64\n",
      "koi_impact_err1      9110 non-null float64\n",
      "koi_impact_err2      9110 non-null float64\n",
      "koi_duration         9564 non-null float64\n",
      "koi_duration_err1    9110 non-null float64\n",
      "koi_duration_err2    9110 non-null float64\n",
      "koi_depth            9201 non-null float64\n",
      "koi_depth_err1       9110 non-null float64\n",
      "koi_depth_err2       9110 non-null float64\n",
      "koi_prad             9201 non-null float64\n",
      "koi_prad_err1        9201 non-null float64\n",
      "koi_prad_err2        9201 non-null float64\n",
      "koi_teq              9201 non-null float64\n",
      "koi_insol            9243 non-null float64\n",
      "koi_insol_err1       9243 non-null float64\n",
      "koi_insol_err2       9243 non-null float64\n",
      "koi_model_snr        9201 non-null float64\n",
      "koi_tce_plnt_num     9218 non-null float64\n",
      "koi_steff            9201 non-null float64\n",
      "koi_steff_err1       9096 non-null float64\n",
      "koi_steff_err2       9081 non-null float64\n",
      "koi_slogg            9201 non-null float64\n",
      "koi_slogg_err1       9096 non-null float64\n",
      "koi_slogg_err2       9096 non-null float64\n",
      "koi_srad             9201 non-null float64\n",
      "koi_srad_err1        9096 non-null float64\n",
      "koi_srad_err2        9096 non-null float64\n",
      "ra                   9564 non-null float64\n",
      "dec                  9564 non-null float64\n",
      "koi_kepmag           9563 non-null float64\n",
      "dtypes: float64(36), int64(4), object(1)\n",
      "memory usage: 3.0+ MB\n"
     ]
    }
   ],
   "source": [
    "dataset.info()"
   ]
  },
  {
   "cell_type": "code",
   "execution_count": 9,
   "metadata": {},
   "outputs": [],
   "source": [
    "#drop all \"err\" columns\n",
    "more_cols = []\n",
    "\n",
    "for column in dataset.columns:\n",
    "    if \"err\" in column:\n",
    "        more_cols.append(column)"
   ]
  },
  {
   "cell_type": "code",
   "execution_count": 10,
   "metadata": {},
   "outputs": [],
   "source": [
    "dataset = dataset.drop(columns = more_cols, axis=1)"
   ]
  },
  {
   "cell_type": "code",
   "execution_count": 11,
   "metadata": {
    "scrolled": false
   },
   "outputs": [
    {
     "name": "stdout",
     "output_type": "stream",
     "text": [
      "<class 'pandas.core.frame.DataFrame'>\n",
      "RangeIndex: 9564 entries, 0 to 9563\n",
      "Data columns (total 21 columns):\n",
      "koi_disposition     9564 non-null object\n",
      "koi_fpflag_nt       9564 non-null int64\n",
      "koi_fpflag_ss       9564 non-null int64\n",
      "koi_fpflag_co       9564 non-null int64\n",
      "koi_fpflag_ec       9564 non-null int64\n",
      "koi_period          9564 non-null float64\n",
      "koi_time0bk         9564 non-null float64\n",
      "koi_impact          9201 non-null float64\n",
      "koi_duration        9564 non-null float64\n",
      "koi_depth           9201 non-null float64\n",
      "koi_prad            9201 non-null float64\n",
      "koi_teq             9201 non-null float64\n",
      "koi_insol           9243 non-null float64\n",
      "koi_model_snr       9201 non-null float64\n",
      "koi_tce_plnt_num    9218 non-null float64\n",
      "koi_steff           9201 non-null float64\n",
      "koi_slogg           9201 non-null float64\n",
      "koi_srad            9201 non-null float64\n",
      "ra                  9564 non-null float64\n",
      "dec                 9564 non-null float64\n",
      "koi_kepmag          9563 non-null float64\n",
      "dtypes: float64(16), int64(4), object(1)\n",
      "memory usage: 1.5+ MB\n"
     ]
    }
   ],
   "source": [
    "dataset.info()"
   ]
  },
  {
   "cell_type": "markdown",
   "metadata": {},
   "source": [
    "<h3 style=\"color:green;\">Data transformation</h3>"
   ]
  },
  {
   "cell_type": "code",
   "execution_count": 12,
   "metadata": {},
   "outputs": [],
   "source": [
    "#get all columns with numerical data\n",
    "num_col = []\n",
    "for col in dataset.columns:\n",
    "    if col != \"koi_disposition\":\n",
    "        num_col.append(col)"
   ]
  },
  {
   "cell_type": "code",
   "execution_count": 13,
   "metadata": {},
   "outputs": [],
   "source": [
    "from sklearn.compose import ColumnTransformer\n",
    "from sklearn.impute import SimpleImputer"
   ]
  },
  {
   "cell_type": "code",
   "execution_count": 14,
   "metadata": {},
   "outputs": [],
   "source": [
    "# deal with nan values through SimpleImputer\n",
    "ct_num = ColumnTransformer([\n",
    "    (\"medianImputer\", SimpleImputer(strategy=\"median\"), num_col)\n",
    "])"
   ]
  },
  {
   "cell_type": "code",
   "execution_count": 15,
   "metadata": {
    "scrolled": true
   },
   "outputs": [
    {
     "data": {
      "text/plain": [
       "(9564, 20)"
      ]
     },
     "execution_count": 15,
     "metadata": {},
     "output_type": "execute_result"
    }
   ],
   "source": [
    "ct_num.fit_transform(dataset).shape"
   ]
  },
  {
   "cell_type": "code",
   "execution_count": 16,
   "metadata": {},
   "outputs": [
    {
     "name": "stdout",
     "output_type": "stream",
     "text": [
      "(9564, 20) (9564,)\n"
     ]
    }
   ],
   "source": [
    "#separate data into X and y\n",
    "y = dataset[\"koi_disposition\"]#.values.reshape(-1, 1)\n",
    "X = dataset.drop(\"koi_disposition\", axis=1)\n",
    "print(X.shape, y.shape)"
   ]
  },
  {
   "cell_type": "code",
   "execution_count": 17,
   "metadata": {},
   "outputs": [],
   "source": [
    "#split data into train data and test data\n",
    "from sklearn.model_selection import train_test_split\n",
    "\n",
    "X_train, X_test, y_train, y_test = train_test_split(X, y, random_state=42, stratify=y)"
   ]
  },
  {
   "cell_type": "code",
   "execution_count": 18,
   "metadata": {},
   "outputs": [],
   "source": [
    "X_trainn = ct_num.fit_transform(X_train)"
   ]
  },
  {
   "cell_type": "markdown",
   "metadata": {},
   "source": [
    "<h3 style=\"color:green;\">Models evaluation</h3>"
   ]
  },
  {
   "cell_type": "code",
   "execution_count": 19,
   "metadata": {},
   "outputs": [],
   "source": [
    "from sklearn.model_selection import cross_val_score"
   ]
  },
  {
   "cell_type": "code",
   "execution_count": 20,
   "metadata": {},
   "outputs": [],
   "source": [
    "#RANDOM FOREST\n",
    "from sklearn.ensemble import RandomForestClassifier\n",
    "\n",
    "forest_clf = RandomForestClassifier(n_estimators=100, random_state=42)\n",
    "forest_scores = cross_val_score(forest_clf, X_trainn, y_train, cv=10)"
   ]
  },
  {
   "cell_type": "code",
   "execution_count": 21,
   "metadata": {},
   "outputs": [
    {
     "name": "stdout",
     "output_type": "stream",
     "text": [
      "[0.87465181 0.8913649  0.90111421 0.90529248 0.89693593 0.89972145\n",
      " 0.89400279 0.91759777 0.89106145 0.8924581 ] >>> 0.8964200887780324\n"
     ]
    }
   ],
   "source": [
    "print(forest_scores, \">>>\", forest_scores.mean())"
   ]
  },
  {
   "cell_type": "code",
   "execution_count": 22,
   "metadata": {},
   "outputs": [],
   "source": [
    "#LOGISTIC REGRESSION\n",
    "from sklearn.linear_model import LogisticRegression\n",
    "\n",
    "logistic_clf = LogisticRegression(multi_class=\"auto\", solver=\"liblinear\", max_iter=300)\n",
    "logistic_scores = cross_val_score(logistic_clf, X_trainn, y_train, cv=10)"
   ]
  },
  {
   "cell_type": "code",
   "execution_count": 23,
   "metadata": {},
   "outputs": [
    {
     "name": "stdout",
     "output_type": "stream",
     "text": [
      "[0.6086351  0.61142061 0.62534819 0.60584958 0.64763231 0.61142061\n",
      " 0.64295676 0.61312849 0.63826816 0.62290503] >>> 0.6227564846958568\n"
     ]
    }
   ],
   "source": [
    "print(logistic_scores, \">>>\", logistic_scores.mean())"
   ]
  },
  {
   "cell_type": "code",
   "execution_count": 24,
   "metadata": {},
   "outputs": [],
   "source": [
    "#SUPPORT VECTOR CLASSIFIER\n",
    "from sklearn.svm import SVC\n",
    "\n",
    "svm_clf = SVC(gamma = \"auto\")\n",
    "svm_scores = cross_val_score(svm_clf, X_trainn, y_train, cv = 10)"
   ]
  },
  {
   "cell_type": "code",
   "execution_count": 25,
   "metadata": {},
   "outputs": [
    {
     "name": "stdout",
     "output_type": "stream",
     "text": [
      "[0.52506964 0.52506964 0.52506964 0.52506964 0.52367688 0.52506964\n",
      " 0.52580195 0.52513966 0.52513966 0.52513966] >>> 0.5250246016631486\n"
     ]
    }
   ],
   "source": [
    "print(svm_scores, \">>>\", svm_scores.mean())"
   ]
  },
  {
   "cell_type": "code",
   "execution_count": 26,
   "metadata": {},
   "outputs": [],
   "source": [
    "#K NEIGHBORS\n",
    "from sklearn.neighbors import KNeighborsClassifier\n",
    "\n",
    "knn_clf = KNeighborsClassifier(n_neighbors=3)\n",
    "knn_scores = cross_val_score(knn_clf, X_trainn, y_train, cv = 10)"
   ]
  },
  {
   "cell_type": "code",
   "execution_count": 27,
   "metadata": {
    "scrolled": false
   },
   "outputs": [
    {
     "name": "stdout",
     "output_type": "stream",
     "text": [
      "[0.56545961 0.60584958 0.6086351  0.57799443 0.61420613 0.58774373\n",
      " 0.57182706 0.59497207 0.60195531 0.59078212] >>> 0.5919425133776597\n"
     ]
    }
   ],
   "source": [
    "print(knn_scores, \">>>\", knn_scores.mean())"
   ]
  },
  {
   "cell_type": "markdown",
   "metadata": {},
   "source": [
    "<h3 style=\"color:green;\">Results comparison</h3>"
   ]
  },
  {
   "cell_type": "code",
   "execution_count": 28,
   "metadata": {
    "scrolled": true
   },
   "outputs": [
    {
     "data": {
      "text/plain": [
       "Text(0, 0.5, 'Accuracy')"
      ]
     },
     "execution_count": 28,
     "metadata": {},
     "output_type": "execute_result"
    },
    {
     "data": {
      "image/png": "[encoded data removed]",
      "text/plain": [
       "<Figure size 576x360 with 1 Axes>"
      ]
     },
     "metadata": {
      "needs_background": "light"
     },
     "output_type": "display_data"
    }
   ],
   "source": [
    "import matplotlib.pyplot as plt \n",
    "\n",
    "plt.figure(figsize = (8, 5))\n",
    "plt.plot([1] * 10, forest_scores, \".\")\n",
    "plt.plot([2] * 10, logistic_scores, \".\")\n",
    "plt.plot([3] * 10, svm_scores, \".\")\n",
    "plt.plot([4] * 10, knn_scores, \".\")\n",
    "\n",
    "plt.boxplot([forest_scores, logistic_scores, svm_scores, knn_scores], labels = (\"Random Forest\", \"Logistic\", \"SVM\", \"KNN\"))\n",
    "plt.ylabel(\"Accuracy\", fontsize = 14)\n",
    "#plt.show()"
   ]
  },
  {
   "cell_type": "markdown",
   "metadata": {},
   "source": [
    "<h3 style=\"color:green;\">Model tuning (grid search)</h3>"
   ]
  },
  {
   "cell_type": "code",
   "execution_count": 32,
   "metadata": {},
   "outputs": [
    {
     "data": {
      "text/plain": [
       "GridSearchCV(cv=10, error_score='raise-deprecating',\n",
       "             estimator=RandomForestClassifier(bootstrap=True, class_weight=None,\n",
       "                                              criterion='gini', max_depth=None,\n",
       "                                              max_features='auto',\n",
       "                                              max_leaf_nodes=None,\n",
       "                                              min_impurity_decrease=0.0,\n",
       "                                              min_impurity_split=None,\n",
       "                                              min_samples_leaf=1,\n",
       "                                              min_samples_split=2,\n",
       "                                              min_weight_fraction_leaf=0.0,\n",
       "                                              n_estimators='warn', n_jobs=None,\n",
       "                                              oob_score=False, random_state=42,\n",
       "                                              verbose=0, warm_start=False),\n",
       "             iid='warn', n_jobs=None,\n",
       "             param_grid=[{'max_features': [4, 5, 6],\n",
       "                          'n_estimators': [100, 300, 500]}],\n",
       "             pre_dispatch='2*n_jobs', refit=True, return_train_score=True,\n",
       "             scoring=None, verbose=0)"
      ]
     },
     "execution_count": 32,
     "metadata": {},
     "output_type": "execute_result"
    }
   ],
   "source": [
    "from sklearn.model_selection import GridSearchCV\n",
    "\n",
    "param_grid = [\n",
    "    #{\"n_estimators\": [10,100,300], \"max_features\": [2,3,4]}\n",
    "    {\"n_estimators\": [100,300,500], \"max_features\": [4,5,6]}\n",
    "]\n",
    "\n",
    "forest_clf = RandomForestClassifier(random_state=42)\n",
    "\n",
    "gridSearch = GridSearchCV(\n",
    "    forest_clf,\n",
    "    param_grid,\n",
    "    cv=10,\n",
    "    return_train_score=True\n",
    "    \n",
    ")\n",
    "\n",
    "gridSearch.fit(X_trainn, y_train)"
   ]
  },
  {
   "cell_type": "code",
   "execution_count": 33,
   "metadata": {},
   "outputs": [
    {
     "data": {
      "text/plain": [
       "{'max_features': 4, 'n_estimators': 300}"
      ]
     },
     "execution_count": 33,
     "metadata": {},
     "output_type": "execute_result"
    }
   ],
   "source": [
    "gridSearch.best_params_"
   ]
  },
  {
   "cell_type": "code",
   "execution_count": 34,
   "metadata": {},
   "outputs": [
    {
     "data": {
      "text/plain": [
       "0.8987871183605186"
      ]
     },
     "execution_count": 34,
     "metadata": {},
     "output_type": "execute_result"
    }
   ],
   "source": [
    "gridSearch.best_score_"
   ]
  },
  {
   "cell_type": "markdown",
   "metadata": {},
   "source": [
    "<h3 style=\"color:green;\">Best model optimized</h3>"
   ]
  },
  {
   "cell_type": "code",
   "execution_count": 29,
   "metadata": {},
   "outputs": [],
   "source": [
    "X_testt = ct_num.fit_transform(X_test)"
   ]
  },
  {
   "cell_type": "code",
   "execution_count": 30,
   "metadata": {},
   "outputs": [],
   "source": [
    "optimal_rf_clf = RandomForestClassifier(max_features=4, n_estimators=300)\n",
    "optimal_rf_clf.fit(X_trainn, y_train)\n",
    "y_predict = optimal_rf_clf.predict(X_testt)"
   ]
  },
  {
   "cell_type": "code",
   "execution_count": 31,
   "metadata": {},
   "outputs": [],
   "source": [
    "exoplanets_predictions = X_test.copy()"
   ]
  },
  {
   "cell_type": "code",
   "execution_count": 32,
   "metadata": {},
   "outputs": [],
   "source": [
    "exoplanets_predictions[\"Prediction\"] = y_predict"
   ]
  },
  {
   "cell_type": "markdown",
   "metadata": {},
   "source": [
    "<h3 style=\"color:green;\">Predictions</h3>"
   ]
  },
  {
   "cell_type": "code",
   "execution_count": 33,
   "metadata": {},
   "outputs": [
    {
     "data": {
      "text/html": [
       "<div>\n",
       "<style scoped>\n",
       "    .dataframe tbody tr th:only-of-type {\n",
       "        vertical-align: middle;\n",
       "    }\n",
       "\n",
       "    .dataframe tbody tr th {\n",
       "        vertical-align: top;\n",
       "    }\n",
       "\n",
       "    .dataframe thead th {\n",
       "        text-align: right;\n",
       "    }\n",
       "</style>\n",
       "<table border=\"1\" class=\"dataframe\">\n",
       "  <thead>\n",
       "    <tr style=\"text-align: right;\">\n",
       "      <th></th>\n",
       "      <th>koi_fpflag_nt</th>\n",
       "      <th>koi_fpflag_ss</th>\n",
       "      <th>koi_fpflag_co</th>\n",
       "      <th>koi_fpflag_ec</th>\n",
       "      <th>koi_period</th>\n",
       "      <th>koi_time0bk</th>\n",
       "      <th>koi_impact</th>\n",
       "      <th>koi_duration</th>\n",
       "      <th>koi_depth</th>\n",
       "      <th>koi_prad</th>\n",
       "      <th>...</th>\n",
       "      <th>koi_insol</th>\n",
       "      <th>koi_model_snr</th>\n",
       "      <th>koi_tce_plnt_num</th>\n",
       "      <th>koi_steff</th>\n",
       "      <th>koi_slogg</th>\n",
       "      <th>koi_srad</th>\n",
       "      <th>ra</th>\n",
       "      <th>dec</th>\n",
       "      <th>koi_kepmag</th>\n",
       "      <th>Prediction</th>\n",
       "    </tr>\n",
       "  </thead>\n",
       "  <tbody>\n",
       "    <tr>\n",
       "      <td>1872</td>\n",
       "      <td>0</td>\n",
       "      <td>0</td>\n",
       "      <td>0</td>\n",
       "      <td>0</td>\n",
       "      <td>28.505722</td>\n",
       "      <td>132.920750</td>\n",
       "      <td>0.695</td>\n",
       "      <td>6.32400</td>\n",
       "      <td>755.8</td>\n",
       "      <td>2.55</td>\n",
       "      <td>...</td>\n",
       "      <td>22.43</td>\n",
       "      <td>20.8</td>\n",
       "      <td>1.0</td>\n",
       "      <td>5712.0</td>\n",
       "      <td>4.534</td>\n",
       "      <td>0.870</td>\n",
       "      <td>292.23242</td>\n",
       "      <td>38.892220</td>\n",
       "      <td>15.778</td>\n",
       "      <td>CONFIRMED</td>\n",
       "    </tr>\n",
       "    <tr>\n",
       "      <td>5042</td>\n",
       "      <td>0</td>\n",
       "      <td>1</td>\n",
       "      <td>0</td>\n",
       "      <td>0</td>\n",
       "      <td>17.907665</td>\n",
       "      <td>139.743761</td>\n",
       "      <td>2.790</td>\n",
       "      <td>5.58652</td>\n",
       "      <td>265410.0</td>\n",
       "      <td>282.86</td>\n",
       "      <td>...</td>\n",
       "      <td>73.31</td>\n",
       "      <td>1731.4</td>\n",
       "      <td>1.0</td>\n",
       "      <td>6173.0</td>\n",
       "      <td>4.447</td>\n",
       "      <td>1.041</td>\n",
       "      <td>296.11542</td>\n",
       "      <td>51.007111</td>\n",
       "      <td>16.107</td>\n",
       "      <td>FALSE POSITIVE</td>\n",
       "    </tr>\n",
       "    <tr>\n",
       "      <td>2487</td>\n",
       "      <td>0</td>\n",
       "      <td>0</td>\n",
       "      <td>0</td>\n",
       "      <td>0</td>\n",
       "      <td>0.698461</td>\n",
       "      <td>131.851380</td>\n",
       "      <td>0.459</td>\n",
       "      <td>0.78870</td>\n",
       "      <td>134.4</td>\n",
       "      <td>14.81</td>\n",
       "      <td>...</td>\n",
       "      <td>168689.02</td>\n",
       "      <td>16.1</td>\n",
       "      <td>1.0</td>\n",
       "      <td>4676.0</td>\n",
       "      <td>2.577</td>\n",
       "      <td>12.558</td>\n",
       "      <td>295.34222</td>\n",
       "      <td>48.856152</td>\n",
       "      <td>13.586</td>\n",
       "      <td>CANDIDATE</td>\n",
       "    </tr>\n",
       "    <tr>\n",
       "      <td>3787</td>\n",
       "      <td>1</td>\n",
       "      <td>0</td>\n",
       "      <td>0</td>\n",
       "      <td>1</td>\n",
       "      <td>0.866346</td>\n",
       "      <td>131.628600</td>\n",
       "      <td>0.409</td>\n",
       "      <td>2.01100</td>\n",
       "      <td>116.4</td>\n",
       "      <td>1.24</td>\n",
       "      <td>...</td>\n",
       "      <td>5186.18</td>\n",
       "      <td>13.9</td>\n",
       "      <td>1.0</td>\n",
       "      <td>6241.0</td>\n",
       "      <td>4.366</td>\n",
       "      <td>1.131</td>\n",
       "      <td>296.11276</td>\n",
       "      <td>39.611599</td>\n",
       "      <td>13.789</td>\n",
       "      <td>FALSE POSITIVE</td>\n",
       "    </tr>\n",
       "    <tr>\n",
       "      <td>7860</td>\n",
       "      <td>0</td>\n",
       "      <td>1</td>\n",
       "      <td>0</td>\n",
       "      <td>0</td>\n",
       "      <td>14.797219</td>\n",
       "      <td>144.695961</td>\n",
       "      <td>0.157</td>\n",
       "      <td>7.61037</td>\n",
       "      <td>252700.0</td>\n",
       "      <td>47.71</td>\n",
       "      <td>...</td>\n",
       "      <td>90.80</td>\n",
       "      <td>7795.3</td>\n",
       "      <td>1.0</td>\n",
       "      <td>6343.0</td>\n",
       "      <td>4.495</td>\n",
       "      <td>0.931</td>\n",
       "      <td>292.02866</td>\n",
       "      <td>42.669552</td>\n",
       "      <td>14.185</td>\n",
       "      <td>FALSE POSITIVE</td>\n",
       "    </tr>\n",
       "    <tr>\n",
       "      <td>...</td>\n",
       "      <td>...</td>\n",
       "      <td>...</td>\n",
       "      <td>...</td>\n",
       "      <td>...</td>\n",
       "      <td>...</td>\n",
       "      <td>...</td>\n",
       "      <td>...</td>\n",
       "      <td>...</td>\n",
       "      <td>...</td>\n",
       "      <td>...</td>\n",
       "      <td>...</td>\n",
       "      <td>...</td>\n",
       "      <td>...</td>\n",
       "      <td>...</td>\n",
       "      <td>...</td>\n",
       "      <td>...</td>\n",
       "      <td>...</td>\n",
       "      <td>...</td>\n",
       "      <td>...</td>\n",
       "      <td>...</td>\n",
       "      <td>...</td>\n",
       "    </tr>\n",
       "    <tr>\n",
       "      <td>4806</td>\n",
       "      <td>0</td>\n",
       "      <td>0</td>\n",
       "      <td>0</td>\n",
       "      <td>0</td>\n",
       "      <td>12.671437</td>\n",
       "      <td>137.507070</td>\n",
       "      <td>0.047</td>\n",
       "      <td>2.49800</td>\n",
       "      <td>215.8</td>\n",
       "      <td>0.76</td>\n",
       "      <td>...</td>\n",
       "      <td>6.31</td>\n",
       "      <td>13.7</td>\n",
       "      <td>3.0</td>\n",
       "      <td>3705.0</td>\n",
       "      <td>4.721</td>\n",
       "      <td>0.529</td>\n",
       "      <td>297.42920</td>\n",
       "      <td>40.561909</td>\n",
       "      <td>13.693</td>\n",
       "      <td>CONFIRMED</td>\n",
       "    </tr>\n",
       "    <tr>\n",
       "      <td>1891</td>\n",
       "      <td>0</td>\n",
       "      <td>0</td>\n",
       "      <td>0</td>\n",
       "      <td>0</td>\n",
       "      <td>14.833409</td>\n",
       "      <td>135.442130</td>\n",
       "      <td>0.399</td>\n",
       "      <td>3.92700</td>\n",
       "      <td>783.0</td>\n",
       "      <td>2.54</td>\n",
       "      <td>...</td>\n",
       "      <td>54.74</td>\n",
       "      <td>19.1</td>\n",
       "      <td>1.0</td>\n",
       "      <td>5570.0</td>\n",
       "      <td>4.471</td>\n",
       "      <td>0.904</td>\n",
       "      <td>293.98358</td>\n",
       "      <td>39.572880</td>\n",
       "      <td>15.707</td>\n",
       "      <td>CONFIRMED</td>\n",
       "    </tr>\n",
       "    <tr>\n",
       "      <td>6857</td>\n",
       "      <td>1</td>\n",
       "      <td>0</td>\n",
       "      <td>0</td>\n",
       "      <td>0</td>\n",
       "      <td>545.456240</td>\n",
       "      <td>131.698410</td>\n",
       "      <td>NaN</td>\n",
       "      <td>5.91000</td>\n",
       "      <td>NaN</td>\n",
       "      <td>NaN</td>\n",
       "      <td>...</td>\n",
       "      <td>NaN</td>\n",
       "      <td>NaN</td>\n",
       "      <td>1.0</td>\n",
       "      <td>NaN</td>\n",
       "      <td>NaN</td>\n",
       "      <td>NaN</td>\n",
       "      <td>289.40317</td>\n",
       "      <td>51.736649</td>\n",
       "      <td>12.104</td>\n",
       "      <td>FALSE POSITIVE</td>\n",
       "    </tr>\n",
       "    <tr>\n",
       "      <td>7108</td>\n",
       "      <td>0</td>\n",
       "      <td>1</td>\n",
       "      <td>0</td>\n",
       "      <td>0</td>\n",
       "      <td>4.390514</td>\n",
       "      <td>132.550761</td>\n",
       "      <td>0.879</td>\n",
       "      <td>2.94720</td>\n",
       "      <td>46829.0</td>\n",
       "      <td>41.83</td>\n",
       "      <td>...</td>\n",
       "      <td>910.71</td>\n",
       "      <td>290.7</td>\n",
       "      <td>1.0</td>\n",
       "      <td>6081.0</td>\n",
       "      <td>4.133</td>\n",
       "      <td>1.454</td>\n",
       "      <td>283.26172</td>\n",
       "      <td>41.084480</td>\n",
       "      <td>13.209</td>\n",
       "      <td>FALSE POSITIVE</td>\n",
       "    </tr>\n",
       "    <tr>\n",
       "      <td>871</td>\n",
       "      <td>0</td>\n",
       "      <td>0</td>\n",
       "      <td>0</td>\n",
       "      <td>0</td>\n",
       "      <td>3.021680</td>\n",
       "      <td>133.472430</td>\n",
       "      <td>0.349</td>\n",
       "      <td>2.82640</td>\n",
       "      <td>171.9</td>\n",
       "      <td>1.31</td>\n",
       "      <td>...</td>\n",
       "      <td>744.35</td>\n",
       "      <td>32.9</td>\n",
       "      <td>1.0</td>\n",
       "      <td>6201.0</td>\n",
       "      <td>4.472</td>\n",
       "      <td>0.989</td>\n",
       "      <td>288.82291</td>\n",
       "      <td>40.389050</td>\n",
       "      <td>14.429</td>\n",
       "      <td>CONFIRMED</td>\n",
       "    </tr>\n",
       "  </tbody>\n",
       "</table>\n",
       "<p>2391 rows × 21 columns</p>\n",
       "</div>"
      ],
      "text/plain": [
       "      koi_fpflag_nt  koi_fpflag_ss  koi_fpflag_co  koi_fpflag_ec  koi_period  \\\n",
       "1872              0              0              0              0   28.505722   \n",
       "5042              0              1              0              0   17.907665   \n",
       "2487              0              0              0              0    0.698461   \n",
       "3787              1              0              0              1    0.866346   \n",
       "7860              0              1              0              0   14.797219   \n",
       "...             ...            ...            ...            ...         ...   \n",
       "4806              0              0              0              0   12.671437   \n",
       "1891              0              0              0              0   14.833409   \n",
       "6857              1              0              0              0  545.456240   \n",
       "7108              0              1              0              0    4.390514   \n",
       "871               0              0              0              0    3.021680   \n",
       "\n",
       "      koi_time0bk  koi_impact  koi_duration  koi_depth  koi_prad  ...  \\\n",
       "1872   132.920750       0.695       6.32400      755.8      2.55  ...   \n",
       "5042   139.743761       2.790       5.58652   265410.0    282.86  ...   \n",
       "2487   131.851380       0.459       0.78870      134.4     14.81  ...   \n",
       "3787   131.628600       0.409       2.01100      116.4      1.24  ...   \n",
       "7860   144.695961       0.157       7.61037   252700.0     47.71  ...   \n",
       "...           ...         ...           ...        ...       ...  ...   \n",
       "4806   137.507070       0.047       2.49800      215.8      0.76  ...   \n",
       "1891   135.442130       0.399       3.92700      783.0      2.54  ...   \n",
       "6857   131.698410         NaN       5.91000        NaN       NaN  ...   \n",
       "7108   132.550761       0.879       2.94720    46829.0     41.83  ...   \n",
       "871    133.472430       0.349       2.82640      171.9      1.31  ...   \n",
       "\n",
       "      koi_insol  koi_model_snr  koi_tce_plnt_num  koi_steff  koi_slogg  \\\n",
       "1872      22.43           20.8               1.0     5712.0      4.534   \n",
       "5042      73.31         1731.4               1.0     6173.0      4.447   \n",
       "2487  168689.02           16.1               1.0     4676.0      2.577   \n",
       "3787    5186.18           13.9               1.0     6241.0      4.366   \n",
       "7860      90.80         7795.3               1.0     6343.0      4.495   \n",
       "...         ...            ...               ...        ...        ...   \n",
       "4806       6.31           13.7               3.0     3705.0      4.721   \n",
       "1891      54.74           19.1               1.0     5570.0      4.471   \n",
       "6857        NaN            NaN               1.0        NaN        NaN   \n",
       "7108     910.71          290.7               1.0     6081.0      4.133   \n",
       "871      744.35           32.9               1.0     6201.0      4.472   \n",
       "\n",
       "      koi_srad         ra        dec  koi_kepmag      Prediction  \n",
       "1872     0.870  292.23242  38.892220      15.778       CONFIRMED  \n",
       "5042     1.041  296.11542  51.007111      16.107  FALSE POSITIVE  \n",
       "2487    12.558  295.34222  48.856152      13.586       CANDIDATE  \n",
       "3787     1.131  296.11276  39.611599      13.789  FALSE POSITIVE  \n",
       "7860     0.931  292.02866  42.669552      14.185  FALSE POSITIVE  \n",
       "...        ...        ...        ...         ...             ...  \n",
       "4806     0.529  297.42920  40.561909      13.693       CONFIRMED  \n",
       "1891     0.904  293.98358  39.572880      15.707       CONFIRMED  \n",
       "6857       NaN  289.40317  51.736649      12.104  FALSE POSITIVE  \n",
       "7108     1.454  283.26172  41.084480      13.209  FALSE POSITIVE  \n",
       "871      0.989  288.82291  40.389050      14.429       CONFIRMED  \n",
       "\n",
       "[2391 rows x 21 columns]"
      ]
     },
     "execution_count": 33,
     "metadata": {},
     "output_type": "execute_result"
    }
   ],
   "source": [
    "exoplanets_predictions"
   ]
  }
 ],
 "metadata": {
  "kernelspec": {
   "display_name": "Python 3",
   "language": "python",
   "name": "python3"
  },
  "language_info": {
   "codemirror_mode": {
    "name": "ipython",
    "version": 3
   },
   "file_extension": ".py",
   "mimetype": "text/x-python",
   "name": "python",
   "nbconvert_exporter": "python",
   "pygments_lexer": "ipython3",
   "version": "3.7.4"
  }
 },
 "nbformat": 4,
 "nbformat_minor": 2
}
